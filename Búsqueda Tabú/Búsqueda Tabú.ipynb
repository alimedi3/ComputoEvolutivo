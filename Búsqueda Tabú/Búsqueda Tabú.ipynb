{
 "cells": [
  {
   "cell_type": "code",
   "execution_count": 1,
   "metadata": {},
   "outputs": [],
   "source": [
    "import numpy as np\n",
    "import pandas as pd\n",
    "import random as rn\n",
    "import copy"
   ]
  },
  {
   "cell_type": "code",
   "execution_count": 2,
   "metadata": {},
   "outputs": [],
   "source": [
    "with open(\"Input.txt\") as f:\n",
    "    lines = f.readlines() #Lee el input\n",
    "    N = int(lines[0])\n",
    "    I_max = int(lines[1])\n",
    "    cost = []\n",
    "    for i in range(N-1):\n",
    "        cost.append(list(map(int,lines[2+i].split(\" \"))))"
   ]
  },
  {
   "cell_type": "code",
   "execution_count": 3,
   "metadata": {},
   "outputs": [],
   "source": [
    "costs = np.zeros((N,N)) #Se inicializa tabla de costes"
   ]
  },
  {
   "cell_type": "code",
   "execution_count": 4,
   "metadata": {},
   "outputs": [],
   "source": [
    "for i in range(N-1): #Se crea la tabla de costes\n",
    "    costs[i,i+1:] = cost[i]\n",
    "    costs[i+1:,i] = cost[i]"
   ]
  },
  {
   "cell_type": "code",
   "execution_count": 5,
   "metadata": {},
   "outputs": [],
   "source": [
    "def greedy(N, costs):\n",
    "    x_0 = [0] #Siempre se inicia en la ciudad 0\n",
    "    while(len(x_0)<N): #Se cicla hasta que se hayan pasado todas las ciudades\n",
    "        temp = copy.copy(costs[x_0[-1]]) #Variable temporal de ayuda\n",
    "        temp[x_0] = np.max(costs[x_0[-1]])+1 #Se pone el costo máximo+1 a aquellas ciudades que ya se visitaron para que no se escojan\n",
    "        x_0.append(np.argmin(temp)) #Se agrega el índice de la ciudad a la que es más barato moverse\n",
    "    return x_0"
   ]
  },
  {
   "cell_type": "code",
   "execution_count": 6,
   "metadata": {},
   "outputs": [
    {
     "data": {
      "text/plain": [
       "array([[ 0., 49., 30., 53., 72., 19., 76., 87., 45., 48.],\n",
       "       [49.,  0., 19., 38., 32., 31., 75., 69., 61., 25.],\n",
       "       [30., 19.,  0., 41., 98., 56.,  6.,  6., 45., 53.],\n",
       "       [53., 38., 41.,  0., 52., 29., 46., 90., 23., 98.],\n",
       "       [72., 32., 98., 52.,  0., 63., 90., 69., 50., 82.],\n",
       "       [19., 31., 56., 29., 63.,  0., 60., 88., 41., 95.],\n",
       "       [76., 75.,  6., 46., 90., 60.,  0., 61., 92., 10.],\n",
       "       [87., 69.,  6., 90., 69., 88., 61.,  0., 82., 73.],\n",
       "       [45., 61., 45., 23., 50., 41., 92., 82.,  0.,  5.],\n",
       "       [48., 25., 53., 98., 82., 95., 10., 73.,  5.,  0.]])"
      ]
     },
     "execution_count": 6,
     "metadata": {},
     "output_type": "execute_result"
    }
   ],
   "source": [
    "costs"
   ]
  },
  {
   "cell_type": "code",
   "execution_count": 7,
   "metadata": {},
   "outputs": [],
   "source": [
    "def f(x,costs): #Función de costo de una solución\n",
    "    r = 0\n",
    "    a = x+[0]\n",
    "    for i in range(len(a)-1):\n",
    "        r += costs[a[i],a[i+1]]\n",
    "    return r"
   ]
  },
  {
   "cell_type": "code",
   "execution_count": 50,
   "metadata": {},
   "outputs": [],
   "source": [
    "def BusquedaTabu(I_max,N,costs):\n",
    "    x_0 = greedy(N,costs)\n",
    "    x_best = x_0\n",
    "    f_best = f(x_0,costs)\n",
    "    k = 0\n",
    "    x = x_0\n",
    "    T = np.array([])\n",
    "    T = T.reshape((0,2))\n",
    "    while(k < I_max):\n",
    "        N_star, T = Neighbour(x,T,N,costs)\n",
    "        N_star_costs = np.array([f(i,costs) for i in N_star])\n",
    "        x = N_star[np.argmin(N_star_costs)]\n",
    "        f_x = f(x,costs)\n",
    "        if f_x < f_best:\n",
    "            x_best = x\n",
    "            f_best = f_x\n",
    "        k += 1\n",
    "        T[:,1] -= 1\n",
    "        i = 0\n",
    "        while i < len(T):\n",
    "            if T[i,1]==0:\n",
    "                T = np.delete(T,i,axis=0)\n",
    "                i -= 1\n",
    "            i+=1\n",
    "    return x_best, f_best"
   ]
  },
  {
   "cell_type": "code",
   "execution_count": 43,
   "metadata": {},
   "outputs": [],
   "source": [
    "def Neighbour(x,T,N,costs): #Generación del vecindario\n",
    "    c = rn.choice(range(1,N)) #Se escoge una ciudad aleatoria a mover\n",
    "    temp = copy.copy(x) #Variable temporal de ayuda\n",
    "    vecindario = [] #Se inicializa el vecindario\n",
    "    \n",
    "    while(c in T[:,0]): #Se escoge una ciudad aleatoria hasta que esta no esté en la lista tabú y que no sea 0, ya que siempre se va a empezar en la ciudad 0\n",
    "        c = rn.choice(range(1,N))\n",
    "    temp.remove(c)\n",
    "    \n",
    "    for i in range(1,N):\n",
    "        vecindario.append(temp[:i]+[c]+temp[i:])\n",
    "    vecindario.remove(x)\n",
    "    T = np.append(T,[[c,N/2]],axis=0)\n",
    "    return vecindario, T"
   ]
  },
  {
   "cell_type": "code",
   "execution_count": 87,
   "metadata": {},
   "outputs": [],
   "source": [
    "x_best, f_best = BusquedaTabu(I_max,N,costs)"
   ]
  },
  {
   "cell_type": "code",
   "execution_count": 88,
   "metadata": {},
   "outputs": [
    {
     "data": {
      "text/plain": [
       "[0, 3, 8, 9, 6, 2, 7, 4, 1, 5]"
      ]
     },
     "execution_count": 88,
     "metadata": {},
     "output_type": "execute_result"
    }
   ],
   "source": [
    "x_best"
   ]
  },
  {
   "cell_type": "code",
   "execution_count": 89,
   "metadata": {},
   "outputs": [
    {
     "data": {
      "text/plain": [
       "254.0"
      ]
     },
     "execution_count": 89,
     "metadata": {},
     "output_type": "execute_result"
    }
   ],
   "source": [
    "f_best"
   ]
  },
  {
   "cell_type": "code",
   "execution_count": 74,
   "metadata": {},
   "outputs": [],
   "source": [
    "x = greedy(N,costs)"
   ]
  },
  {
   "cell_type": "code",
   "execution_count": 75,
   "metadata": {},
   "outputs": [
    {
     "data": {
      "text/plain": [
       "[0, 5, 3, 8, 9, 6, 2, 7, 1, 4]"
      ]
     },
     "execution_count": 75,
     "metadata": {},
     "output_type": "execute_result"
    }
   ],
   "source": [
    "x"
   ]
  },
  {
   "cell_type": "code",
   "execution_count": 76,
   "metadata": {},
   "outputs": [],
   "source": [
    "x_0 = f(x,costs)"
   ]
  },
  {
   "cell_type": "code",
   "execution_count": 77,
   "metadata": {},
   "outputs": [
    {
     "data": {
      "text/plain": [
       "271.0"
      ]
     },
     "execution_count": 77,
     "metadata": {},
     "output_type": "execute_result"
    }
   ],
   "source": [
    "x_0"
   ]
  },
  {
   "cell_type": "code",
   "execution_count": 90,
   "metadata": {},
   "outputs": [],
   "source": [
    "array = x"
   ]
  },
  {
   "cell_type": "code",
   "execution_count": 92,
   "metadata": {},
   "outputs": [
    {
     "data": {
      "text/plain": [
       "10"
      ]
     },
     "execution_count": 92,
     "metadata": {},
     "output_type": "execute_result"
    }
   ],
   "source": [
    "np.argsort(array)"
   ]
  },
  {
   "cell_type": "code",
   "execution_count": 101,
   "metadata": {},
   "outputs": [],
   "source": [
    "M = 9"
   ]
  },
  {
   "cell_type": "code",
   "execution_count": 95,
   "metadata": {},
   "outputs": [],
   "source": [
    "soluciones = []\n",
    "costes = np.array([])\n",
    "\n",
    "for i in range(9):\n",
    "    x_best, f_best = BusquedaTabu(I_max,N,costs)\n",
    "\n",
    "    soluciones.append(x_best)\n",
    "    costes = np.append(costes,f_best)"
   ]
  },
  {
   "cell_type": "code",
   "execution_count": 97,
   "metadata": {},
   "outputs": [
    {
     "data": {
      "text/plain": [
       "9"
      ]
     },
     "execution_count": 97,
     "metadata": {},
     "output_type": "execute_result"
    }
   ],
   "source": [
    "len(soluciones)"
   ]
  },
  {
   "cell_type": "code",
   "execution_count": 98,
   "metadata": {},
   "outputs": [
    {
     "name": "stdout",
     "output_type": "stream",
     "text": [
      "Mejor solución encontrada:  [0, 5, 3, 8, 9, 6, 2, 7, 4, 1] con coste:  248.0\n"
     ]
    }
   ],
   "source": [
    "print(\"Mejor solución encontrada: \", soluciones[np.argmin(costes)], \"con coste: \", min(costes))"
   ]
  },
  {
   "cell_type": "code",
   "execution_count": 99,
   "metadata": {},
   "outputs": [
    {
     "name": "stdout",
     "output_type": "stream",
     "text": [
      "Peor solución encontrada:  [0, 5, 3, 8, 9, 6, 2, 7, 1, 4] con coste:  271.0\n"
     ]
    }
   ],
   "source": [
    "print(\"Peor solución encontrada: \", soluciones[np.argmax(costes)], \"con coste: \", max(costes))"
   ]
  },
  {
   "cell_type": "code",
   "execution_count": 102,
   "metadata": {},
   "outputs": [
    {
     "name": "stdout",
     "output_type": "stream",
     "text": [
      "Solución 'mediana':  [0, 1, 4, 7, 2, 6, 9, 8, 3, 5] con coste:  248.0\n"
     ]
    }
   ],
   "source": [
    "print(\"Solución 'mediana': \", soluciones[np.argsort(costes)[M//2]], \"con coste: \", costes[np.argsort(costes)[M//2]])"
   ]
  },
  {
   "cell_type": "code",
   "execution_count": 107,
   "metadata": {},
   "outputs": [
    {
     "name": "stdout",
     "output_type": "stream",
     "text": [
      "Media:  10.699024993076197\n"
     ]
    }
   ],
   "source": [
    "print(\"Media: \", np.std(costes))"
   ]
  }
 ],
 "metadata": {
  "kernelspec": {
   "display_name": "Python 3",
   "language": "python",
   "name": "python3"
  },
  "language_info": {
   "codemirror_mode": {
    "name": "ipython",
    "version": 3
   },
   "file_extension": ".py",
   "mimetype": "text/x-python",
   "name": "python",
   "nbconvert_exporter": "python",
   "pygments_lexer": "ipython3",
   "version": "3.8.3"
  }
 },
 "nbformat": 4,
 "nbformat_minor": 4
}
